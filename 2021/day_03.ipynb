{
 "cells": [
  {
   "cell_type": "code",
   "execution_count": 1,
   "id": "c05e29a2",
   "metadata": {},
   "outputs": [],
   "source": [
    "import pandas as pd"
   ]
  },
  {
   "cell_type": "code",
   "execution_count": 19,
   "id": "bea5d2be",
   "metadata": {},
   "outputs": [],
   "source": [
    "report = open(\"data/day_03.txt\", \"r\").readlines()\n",
    "report = [[char for char in line.rstrip()] for line in report]\n",
    "report_df = pd.DataFrame(report)"
   ]
  },
  {
   "cell_type": "markdown",
   "id": "0f0b7c52",
   "metadata": {},
   "source": [
    "# Part 1"
   ]
  },
  {
   "cell_type": "code",
   "execution_count": 37,
   "id": "5303bad8",
   "metadata": {},
   "outputs": [],
   "source": [
    "gamma_bin = \"\".join(report_df.apply(lambda col: col.mode(), axis=0).loc[0])\n",
    "gamma_rate = int(gamma_bin, 2)\n",
    "\n",
    "epsilon_bin = \"\".join([\"0\" if el == \"1\" else \"1\" for el in gamma_bin])\n",
    "epsilon_rate = int(epsilon_bin, 2)\n",
    "\n",
    "mult_rate = gamma_rate*epsilon_rate"
   ]
  },
  {
   "cell_type": "code",
   "execution_count": 38,
   "id": "649aa8d6",
   "metadata": {},
   "outputs": [
    {
     "data": {
      "text/plain": [
       "1307354"
      ]
     },
     "execution_count": 38,
     "metadata": {},
     "output_type": "execute_result"
    }
   ],
   "source": [
    "mult_rate"
   ]
  },
  {
   "cell_type": "markdown",
   "id": "5bb70b4a",
   "metadata": {},
   "source": [
    "# Part 2"
   ]
  },
  {
   "cell_type": "code",
   "execution_count": 96,
   "id": "a9ddbb04",
   "metadata": {},
   "outputs": [],
   "source": [
    "#oxygen generator rating\n",
    "copy_report_df = report_df.copy()\n",
    "\n",
    "for i in range(report_df.shape[1]):\n",
    "    \n",
    "    if copy_report_df.shape[0] == 1:\n",
    "        break\n",
    "    \n",
    "    val_counts = copy_report_df[i].value_counts().sort_index()\n",
    "\n",
    "    if val_counts[0] > val_counts[1]:\n",
    "        col_mode = \"0\"\n",
    "    else:\n",
    "        col_mode = \"1\"\n",
    "    \n",
    "    copy_report_df = copy_report_df[copy_report_df[i] == col_mode]\n",
    "    \n",
    "oxygen_rating = int(\"\".join(copy_report_df.iloc[0]), 2)"
   ]
  },
  {
   "cell_type": "code",
   "execution_count": 97,
   "id": "c9f1244c",
   "metadata": {},
   "outputs": [],
   "source": [
    "#co2 scrubber rating\n",
    "copy_report_df = report_df.copy()\n",
    "\n",
    "for i in range(report_df.shape[1]):\n",
    "    \n",
    "    if copy_report_df.shape[0] == 1:\n",
    "        break\n",
    "    \n",
    "    val_counts = copy_report_df[i].value_counts().sort_index()\n",
    "\n",
    "    if val_counts[0] <= val_counts[1]:\n",
    "        least_common = \"0\"\n",
    "    else:\n",
    "        least_common = \"1\"\n",
    "    \n",
    "    copy_report_df = copy_report_df[copy_report_df[i] == least_common]\n",
    "    \n",
    "co2_rating = int(\"\".join(copy_report_df.iloc[0]), 2)"
   ]
  },
  {
   "cell_type": "code",
   "execution_count": 98,
   "id": "448c6ee7",
   "metadata": {},
   "outputs": [],
   "source": [
    "mult_rating = oxygen_rating*co2_rating"
   ]
  },
  {
   "cell_type": "code",
   "execution_count": 99,
   "id": "e4f2774c",
   "metadata": {},
   "outputs": [
    {
     "data": {
      "text/plain": [
       "482500"
      ]
     },
     "execution_count": 99,
     "metadata": {},
     "output_type": "execute_result"
    }
   ],
   "source": [
    "mult_rating"
   ]
  }
 ],
 "metadata": {
  "kernelspec": {
   "display_name": "Python 3 (ipykernel)",
   "language": "python",
   "name": "python3"
  },
  "language_info": {
   "codemirror_mode": {
    "name": "ipython",
    "version": 3
   },
   "file_extension": ".py",
   "mimetype": "text/x-python",
   "name": "python",
   "nbconvert_exporter": "python",
   "pygments_lexer": "ipython3",
   "version": "3.9.7"
  }
 },
 "nbformat": 4,
 "nbformat_minor": 5
}
