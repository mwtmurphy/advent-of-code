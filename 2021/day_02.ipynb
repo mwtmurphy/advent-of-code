{
 "cells": [
  {
   "cell_type": "code",
   "execution_count": 7,
   "id": "3db145f9",
   "metadata": {},
   "outputs": [],
   "source": [
    "import pandas as pd"
   ]
  },
  {
   "cell_type": "code",
   "execution_count": 15,
   "id": "4711874c",
   "metadata": {},
   "outputs": [],
   "source": [
    "directions = open(\"data/day_02.txt\", \"r\").readlines()\n",
    "directions = [line.rstrip().split(\" \") for line in directions]\n",
    "directions_df = pd.DataFrame(directions, columns=[\"direction\", \"units\"])\n",
    "directions_df[\"units\"] = directions_df[\"units\"].astype(int)"
   ]
  },
  {
   "cell_type": "markdown",
   "id": "8e9f29b8",
   "metadata": {},
   "source": [
    "# Part 1"
   ]
  },
  {
   "cell_type": "code",
   "execution_count": 23,
   "id": "8d3bae4c",
   "metadata": {},
   "outputs": [],
   "source": [
    "coords = [0, 0]\n",
    "\n",
    "for _, row in directions_df.iterrows():\n",
    "    if row[\"direction\"] == \"forward\":\n",
    "        coords[0] += row[\"units\"]\n",
    "    elif row[\"direction\"] == \"down\":\n",
    "        coords[1] += row[\"units\"]\n",
    "    elif row[\"direction\"] == \"up\":\n",
    "        coords[1] -= row[\"units\"]\n",
    "\n",
    "mult_coords = coords[0]*coords[1]"
   ]
  },
  {
   "cell_type": "code",
   "execution_count": 24,
   "id": "154ce47d",
   "metadata": {},
   "outputs": [
    {
     "data": {
      "text/plain": [
       "1728414"
      ]
     },
     "execution_count": 24,
     "metadata": {},
     "output_type": "execute_result"
    }
   ],
   "source": [
    "mult_coords"
   ]
  },
  {
   "cell_type": "markdown",
   "id": "7dd03e39",
   "metadata": {},
   "source": [
    "# Part 2"
   ]
  },
  {
   "cell_type": "code",
   "execution_count": 28,
   "id": "456715c4",
   "metadata": {},
   "outputs": [],
   "source": [
    "coords_aim = [0, 0, 0]\n",
    "\n",
    "for _, row in directions_df.iterrows():\n",
    "    if row[\"direction\"] == \"forward\":\n",
    "        coords_aim[0] += row[\"units\"]\n",
    "        coords_aim[1] += coords_aim[2]*row[\"units\"]\n",
    "    elif row[\"direction\"] == \"down\":\n",
    "        coords_aim[2] += row[\"units\"]\n",
    "    elif row[\"direction\"] == \"up\":\n",
    "        coords_aim[2] -= row[\"units\"]\n",
    "\n",
    "mult_coords = coords_aim[0]*coords_aim[1]"
   ]
  },
  {
   "cell_type": "code",
   "execution_count": 29,
   "id": "977e0ba4",
   "metadata": {},
   "outputs": [
    {
     "data": {
      "text/plain": [
       "1765720035"
      ]
     },
     "execution_count": 29,
     "metadata": {},
     "output_type": "execute_result"
    }
   ],
   "source": [
    "mult_coords"
   ]
  }
 ],
 "metadata": {
  "kernelspec": {
   "display_name": "Python 3 (ipykernel)",
   "language": "python",
   "name": "python3"
  },
  "language_info": {
   "codemirror_mode": {
    "name": "ipython",
    "version": 3
   },
   "file_extension": ".py",
   "mimetype": "text/x-python",
   "name": "python",
   "nbconvert_exporter": "python",
   "pygments_lexer": "ipython3",
   "version": "3.9.7"
  }
 },
 "nbformat": 4,
 "nbformat_minor": 5
}
