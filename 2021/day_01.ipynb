{
 "cells": [
  {
   "cell_type": "code",
   "execution_count": 8,
   "id": "3ec06619",
   "metadata": {},
   "outputs": [],
   "source": [
    "import pandas as pd"
   ]
  },
  {
   "cell_type": "code",
   "execution_count": null,
   "id": "1afe31c4",
   "metadata": {},
   "outputs": [],
   "source": [
    "depths = open(\"data/day_01.txt\", \"r\").readlines()\n",
    "depths = [int(line.rstrip()) for line in depths]"
   ]
  },
  {
   "cell_type": "markdown",
   "id": "b6059b07",
   "metadata": {},
   "source": [
    "# Part 1"
   ]
  },
  {
   "cell_type": "code",
   "execution_count": 6,
   "id": "71673fd0",
   "metadata": {},
   "outputs": [],
   "source": [
    "n_increase = 0\n",
    "\n",
    "for i in range(1, len(depths)):\n",
    "    n_increase += 1 if depths[i] > depths[i-1] else 0"
   ]
  },
  {
   "cell_type": "code",
   "execution_count": 7,
   "id": "05a42b76",
   "metadata": {},
   "outputs": [
    {
     "data": {
      "text/plain": [
       "1583"
      ]
     },
     "execution_count": 7,
     "metadata": {},
     "output_type": "execute_result"
    }
   ],
   "source": [
    "n_increase"
   ]
  },
  {
   "cell_type": "markdown",
   "id": "c1964510",
   "metadata": {},
   "source": [
    "# Part 2"
   ]
  },
  {
   "cell_type": "code",
   "execution_count": 26,
   "id": "76816b37",
   "metadata": {},
   "outputs": [],
   "source": [
    "roll_depths = list(pd.Series(depths).rolling(3).sum().dropna())"
   ]
  },
  {
   "cell_type": "code",
   "execution_count": 27,
   "id": "97b263e8",
   "metadata": {},
   "outputs": [],
   "source": [
    "n_increase = 0\n",
    "\n",
    "for i in range(1, len(roll_depths)):\n",
    "    n_increase += 1 if roll_depths[i] > roll_depths[i-1] else 0"
   ]
  },
  {
   "cell_type": "code",
   "execution_count": 28,
   "id": "83b7eead",
   "metadata": {},
   "outputs": [
    {
     "data": {
      "text/plain": [
       "1627"
      ]
     },
     "execution_count": 28,
     "metadata": {},
     "output_type": "execute_result"
    }
   ],
   "source": [
    "n_increase"
   ]
  }
 ],
 "metadata": {
  "kernelspec": {
   "display_name": "Python 3 (ipykernel)",
   "language": "python",
   "name": "python3"
  },
  "language_info": {
   "codemirror_mode": {
    "name": "ipython",
    "version": 3
   },
   "file_extension": ".py",
   "mimetype": "text/x-python",
   "name": "python",
   "nbconvert_exporter": "python",
   "pygments_lexer": "ipython3",
   "version": "3.9.7"
  }
 },
 "nbformat": 4,
 "nbformat_minor": 5
}
