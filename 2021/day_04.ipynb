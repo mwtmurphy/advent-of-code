{
 "cells": [
  {
   "cell_type": "code",
   "execution_count": 23,
   "id": "ac4d2750",
   "metadata": {},
   "outputs": [],
   "source": [
    "import pandas as pd\n",
    "import re"
   ]
  },
  {
   "cell_type": "code",
   "execution_count": 79,
   "id": "a797259c",
   "metadata": {},
   "outputs": [],
   "source": [
    "bingo = open(\"data/day_04.txt\", \"r\").readlines()\n",
    "\n",
    "numbers = [int(el) for el in bingo[0].rstrip().split(\",\")]\n",
    "\n",
    "scorecards = []\n",
    "for i in range(2, len(bingo), 6):\n",
    "    card = [[int(el) for el in re.findall(r\"\\d+\", row)] for row in bingo[i:i+5]]\n",
    "    card_df = pd.DataFrame(card)\n",
    "    scorecards.append(card_df.copy())"
   ]
  },
  {
   "cell_type": "markdown",
   "id": "6a70c92f",
   "metadata": {},
   "source": [
    "# Part 1"
   ]
  },
  {
   "cell_type": "code",
   "execution_count": 46,
   "id": "8d0b09da",
   "metadata": {},
   "outputs": [],
   "source": [
    "copy_scorecards = [df.copy() for df in scorecards]\n",
    "\n",
    "for num in numbers:\n",
    "    for card in copy_scorecards:\n",
    "        card[card == num] = -1\n",
    "        \n",
    "        #check for bingo\n",
    "        is_bingo = card.apply(lambda col: col.eq(-1).all()).any() or card.apply(lambda row: row.eq(-1).all(), axis=1).any()\n",
    "        \n",
    "        if is_bingo:\n",
    "            break\n",
    "    if is_bingo:\n",
    "        break\n",
    "        \n",
    "final_score = int(card[card != -1].sum().sum()) * num"
   ]
  },
  {
   "cell_type": "code",
   "execution_count": 54,
   "id": "e322b34a",
   "metadata": {},
   "outputs": [
    {
     "data": {
      "text/plain": [
       "21607"
      ]
     },
     "execution_count": 54,
     "metadata": {},
     "output_type": "execute_result"
    }
   ],
   "source": [
    "final_score"
   ]
  },
  {
   "cell_type": "markdown",
   "id": "c01a1c91",
   "metadata": {},
   "source": [
    "# Part 2"
   ]
  },
  {
   "cell_type": "code",
   "execution_count": 81,
   "id": "d6597ae5",
   "metadata": {},
   "outputs": [],
   "source": [
    "copy_scorecards = [df.copy() for df in scorecards]\n",
    "winning_boards_df = pd.DataFrame(columns=[\"ix\", \"num\", \"rank\"])\n",
    "rank = 1\n",
    "\n",
    "for num in numbers:\n",
    "    for ix, card in enumerate(copy_scorecards):\n",
    "        \n",
    "        if ix in winning_boards_df[\"ix\"].values:\n",
    "            continue\n",
    "        \n",
    "        card[card == num] = -1\n",
    "        \n",
    "        #check for bingo\n",
    "        is_bingo = card.apply(lambda col: col.eq(-1).all()).any() or card.apply(lambda row: row.eq(-1).all(), axis=1).any()\n",
    "        \n",
    "        if is_bingo:\n",
    "            winning_boards_df = winning_boards_df.append({\"ix\": ix, \"num\": num, \"rank\": rank}, ignore_index=True)\n",
    "            rank += 1\n",
    "\n",
    "last_ix = winning_boards_df.loc[winning_boards_df[\"rank\"] == winning_boards_df[\"rank\"].max(), \"ix\"].values[0]\n",
    "last_num = winning_boards_df.loc[winning_boards_df[\"ix\"] == last_ix, \"num\"].values[0]\n",
    "\n",
    "final_score = int(copy_scorecards[last_ix][copy_scorecards[last_ix] != -1].sum().sum()) * last_num"
   ]
  },
  {
   "cell_type": "code",
   "execution_count": 91,
   "id": "d451910e",
   "metadata": {},
   "outputs": [
    {
     "data": {
      "text/plain": [
       "19012"
      ]
     },
     "execution_count": 91,
     "metadata": {},
     "output_type": "execute_result"
    }
   ],
   "source": [
    "final_score"
   ]
  }
 ],
 "metadata": {
  "kernelspec": {
   "display_name": "Python 3 (ipykernel)",
   "language": "python",
   "name": "python3"
  },
  "language_info": {
   "codemirror_mode": {
    "name": "ipython",
    "version": 3
   },
   "file_extension": ".py",
   "mimetype": "text/x-python",
   "name": "python",
   "nbconvert_exporter": "python",
   "pygments_lexer": "ipython3",
   "version": "3.9.7"
  }
 },
 "nbformat": 4,
 "nbformat_minor": 5
}
