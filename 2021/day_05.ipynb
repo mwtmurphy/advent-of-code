{
 "cells": [
  {
   "cell_type": "code",
   "execution_count": 99,
   "id": "f0afbc00",
   "metadata": {},
   "outputs": [],
   "source": [
    "import collections\n",
    "import itertools\n",
    "import pandas as pd"
   ]
  },
  {
   "cell_type": "code",
   "execution_count": 100,
   "id": "1209af44",
   "metadata": {},
   "outputs": [],
   "source": [
    "pipes = open(\"data/day_05.txt\", \"r\").readlines()\n",
    "pipes = [row.rstrip().replace(\" -> \", \",\").split(\",\") for row in pipes]\n",
    "pipes_df = pd.DataFrame(pipes, columns=[\"x1\", \"y1\", \"x2\", \"y2\"]).astype(int)"
   ]
  },
  {
   "cell_type": "markdown",
   "id": "5d671685",
   "metadata": {},
   "source": [
    "# Part 1"
   ]
  },
  {
   "cell_type": "code",
   "execution_count": 103,
   "id": "6775d946",
   "metadata": {},
   "outputs": [],
   "source": [
    "coords = []\n",
    "\n",
    "for _, row in pipes_df.iterrows():\n",
    "    if row[\"x1\"] != row[\"x2\"] and row[\"y1\"] != row[\"y2\"]:\n",
    "        continue\n",
    "    \n",
    "    x = sorted([row[\"x1\"], row[\"x2\"]])\n",
    "    y = sorted([row[\"y1\"], row[\"y2\"]])\n",
    "    \n",
    "    coords += list(itertools.product(range(x[0], x[1]+1), range(y[0], y[1]+1)))\n",
    "    \n",
    "coords_count = collections.Counter(coords)\n",
    "\n",
    "for key, _ in itertools.dropwhile(lambda key_count: key_count[1] > 1, coords_count.most_common()):\n",
    "    del coords_count[key]\n",
    "\n",
    "overlapping_pipes = len(coords_count)"
   ]
  },
  {
   "cell_type": "code",
   "execution_count": 102,
   "id": "71b1b74a",
   "metadata": {},
   "outputs": [
    {
     "data": {
      "text/plain": [
       "6311"
      ]
     },
     "execution_count": 102,
     "metadata": {},
     "output_type": "execute_result"
    }
   ],
   "source": [
    "overlapping_pipes"
   ]
  },
  {
   "cell_type": "markdown",
   "id": "00111574",
   "metadata": {},
   "source": [
    "# Part 2"
   ]
  },
  {
   "cell_type": "code",
   "execution_count": 113,
   "id": "259baa3e",
   "metadata": {},
   "outputs": [],
   "source": [
    "coords = []\n",
    "\n",
    "for _, row in pipes_df.iterrows():\n",
    "    if row[\"x1\"] == row[\"x2\"] or row[\"y1\"] == row[\"y2\"]: #straight lines\n",
    "        x = sorted([row[\"x1\"], row[\"x2\"]])\n",
    "        y = sorted([row[\"y1\"], row[\"y2\"]])\n",
    "\n",
    "        coords += list(itertools.product(range(x[0], x[1]+1), range(y[0], y[1]+1)))\n",
    "        \n",
    "    else: #diagonal lines\n",
    "        x_vals = range(row[\"x1\"], row[\"x2\"]+1) if row[\"x1\"] <= row[\"x2\"] else range(row[\"x1\"], row[\"x2\"]-1, -1)\n",
    "        y_vals = range(row[\"y1\"], row[\"y2\"]+1) if row[\"y1\"] <= row[\"y2\"] else range(row[\"y1\"], row[\"y2\"]-1, -1)\n",
    "        \n",
    "        coords += list(zip(x_vals, y_vals))\n",
    "    \n",
    "coords_count = collections.Counter(coords)\n",
    "\n",
    "for key, _ in itertools.dropwhile(lambda key_count: key_count[1] > 1, coords_count.most_common()):\n",
    "    del coords_count[key]\n",
    "\n",
    "overlapping_pipes = len(coords_count)"
   ]
  },
  {
   "cell_type": "code",
   "execution_count": 114,
   "id": "4e31025a",
   "metadata": {},
   "outputs": [
    {
     "data": {
      "text/plain": [
       "19929"
      ]
     },
     "execution_count": 114,
     "metadata": {},
     "output_type": "execute_result"
    }
   ],
   "source": [
    "overlapping_pipes"
   ]
  }
 ],
 "metadata": {
  "kernelspec": {
   "display_name": "Python 3 (ipykernel)",
   "language": "python",
   "name": "python3"
  },
  "language_info": {
   "codemirror_mode": {
    "name": "ipython",
    "version": 3
   },
   "file_extension": ".py",
   "mimetype": "text/x-python",
   "name": "python",
   "nbconvert_exporter": "python",
   "pygments_lexer": "ipython3",
   "version": "3.9.7"
  }
 },
 "nbformat": 4,
 "nbformat_minor": 5
}
