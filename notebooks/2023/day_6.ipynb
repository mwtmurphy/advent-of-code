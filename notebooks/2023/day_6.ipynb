{
 "cells": [
  {
   "cell_type": "code",
   "execution_count": 1,
   "metadata": {},
   "outputs": [],
   "source": [
    "import re"
   ]
  },
  {
   "cell_type": "code",
   "execution_count": 2,
   "metadata": {},
   "outputs": [
    {
     "name": "stdout",
     "output_type": "stream",
     "text": [
      "/Users/mwtmurphy/projects/advent-of-code\n"
     ]
    }
   ],
   "source": [
    "%cd ../.."
   ]
  },
  {
   "cell_type": "code",
   "execution_count": 3,
   "metadata": {},
   "outputs": [],
   "source": [
    "with open(\"data/2023/day_6.txt\") as file:\n",
    "    day_6_str = file.read().strip()"
   ]
  },
  {
   "cell_type": "code",
   "execution_count": 4,
   "metadata": {},
   "outputs": [
    {
     "name": "stdout",
     "output_type": "stream",
     "text": [
      "day 6a solution: 588588\n"
     ]
    }
   ],
   "source": [
    "split_vals = day_6_str.splitlines()\n",
    "time_vals = [int(el) for el in re.findall(r\"\\d+\", split_vals[0])]\n",
    "dist_vals = [int(el) for el in re.findall(r\"\\d+\", split_vals[1])]\n",
    "time_dist_vals = zip(time_vals, dist_vals)\n",
    "\n",
    "code = 1\n",
    "for time, dist in time_dist_vals:\n",
    "    win_combos = 0\n",
    "    exit_loop = False\n",
    "\n",
    "    for i in range(time):\n",
    "        if i * (time - i) > dist:\n",
    "            win_combos += 1\n",
    "            exit_loop = True # entered values meeting conditions\n",
    "        \n",
    "        elif exit_loop == True: # stop once left values meeting conditions\n",
    "            break\n",
    "\n",
    "    code *= win_combos\n",
    "\n",
    "print(\"day 6a solution:\", code)            "
   ]
  },
  {
   "cell_type": "code",
   "execution_count": 5,
   "metadata": {},
   "outputs": [
    {
     "name": "stdout",
     "output_type": "stream",
     "text": [
      "day 6a solution: 34655848\n"
     ]
    }
   ],
   "source": [
    "split_vals = day_6_str.splitlines()\n",
    "time_vals = [int(\"\".join(re.findall(r\"\\d+\", split_vals[0])))]\n",
    "dist_vals = [int(\"\".join(re.findall(r\"\\d+\", split_vals[1])))]\n",
    "time_dist_vals = zip(time_vals, dist_vals)\n",
    "\n",
    "code = 1\n",
    "for time, dist in time_dist_vals:\n",
    "    win_combos = 0\n",
    "    exit_loop = False\n",
    "\n",
    "    for i in range(time):\n",
    "        if i * (time - i) > dist:\n",
    "            win_combos += 1\n",
    "            exit_loop = True # entered values meeting conditions\n",
    "        \n",
    "        elif exit_loop == True: # stop once left values meeting conditions\n",
    "            break\n",
    "\n",
    "    code *= win_combos\n",
    "\n",
    "print(\"day 6b solution:\", code)            "
   ]
  },
  {
   "cell_type": "code",
   "execution_count": null,
   "metadata": {},
   "outputs": [],
   "source": []
  }
 ],
 "metadata": {
  "kernelspec": {
   "display_name": "advent-of-code-rjxGAg1e-py3.10",
   "language": "python",
   "name": "python3"
  },
  "language_info": {
   "codemirror_mode": {
    "name": "ipython",
    "version": 3
   },
   "file_extension": ".py",
   "mimetype": "text/x-python",
   "name": "python",
   "nbconvert_exporter": "python",
   "pygments_lexer": "ipython3",
   "version": "3.10.12"
  }
 },
 "nbformat": 4,
 "nbformat_minor": 2
}
