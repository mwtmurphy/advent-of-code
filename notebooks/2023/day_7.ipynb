{
 "cells": [
  {
   "cell_type": "code",
   "execution_count": 1,
   "metadata": {},
   "outputs": [],
   "source": [
    "import collections\n",
    "\n",
    "import pandas as pd"
   ]
  },
  {
   "cell_type": "code",
   "execution_count": 2,
   "metadata": {},
   "outputs": [
    {
     "name": "stdout",
     "output_type": "stream",
     "text": [
      "/Users/mwtmurphy/projects/advent-of-code\n"
     ]
    },
    {
     "name": "stderr",
     "output_type": "stream",
     "text": [
      "/Users/mwtmurphy/Library/Caches/pypoetry/virtualenvs/advent-of-code-rjxGAg1e-py3.10/lib/python3.10/site-packages/IPython/core/magics/osm.py:417: UserWarning: using dhist requires you to install the `pickleshare` library.\n",
      "  self.shell.db['dhist'] = compress_dhist(dhist)[-100:]\n"
     ]
    }
   ],
   "source": [
    "%cd ../.."
   ]
  },
  {
   "cell_type": "code",
   "execution_count": 3,
   "metadata": {},
   "outputs": [],
   "source": [
    "map_7a = {\"T\": 10, \"J\": 11, \"Q\": 12, \"K\": 13, \"A\": 14}\n",
    "map_7b = {\"T\": 10, \"J\": 1, \"Q\": 12, \"K\": 13, \"A\": 14}\n",
    "\n",
    "def map_7a_card(card: str, char_map: dict = map_7a) -> int:\n",
    "    '''Returns integer value of card'''\n",
    "    \n",
    "    if card in [\"T\", \"J\", \"Q\", \"K\", \"A\"]:\n",
    "        card_val = char_map[card]\n",
    "    else:\n",
    "        card_val = int(card)\n",
    "\n",
    "    return card_val\n",
    "\n",
    "def map_7b_card(card: str, char_map: dict = map_7b) -> int:\n",
    "    '''Returns integer value of card'''\n",
    "    \n",
    "    if card in [\"T\", \"J\", \"Q\", \"K\", \"A\"]:\n",
    "        card_val = char_map[card]\n",
    "    else:\n",
    "        card_val = int(card)\n",
    "\n",
    "    return card_val\n",
    "\n",
    "def rank_7b_hand(hand: pd.Series) -> int:\n",
    "    hand_counter = collections.Counter(hand)\n",
    "\n",
    "    if len(hand_counter) == 1:\n",
    "        return 7 # five of a kind\n",
    "    \n",
    "    if \"J\" in hand_counter:\n",
    "        n_jacks = hand_counter.pop(\"J\")\n",
    "        card_counts = [card[1] for card in hand_counter.most_common()]\n",
    "\n",
    "        if n_jacks == 4:\n",
    "            return 7 # high card -> five of a kind\n",
    "        \n",
    "        elif n_jacks == 3:\n",
    "            if card_counts[0] == 2:\n",
    "                return 7 # one pair -> five of a kind\n",
    "            else:\n",
    "                return 6 # high card -> four of a kind\n",
    "        \n",
    "        elif n_jacks == 2:\n",
    "            if card_counts[0] == 3:\n",
    "                return 7 # three of a kind -> five of a kind\n",
    "            elif card_counts[0] == 2:\n",
    "                return 6 # one pair -> four of a kind\n",
    "            else:\n",
    "                return 4 # high card -> three of a kind\n",
    "        \n",
    "        else:\n",
    "            if card_counts[0] == 4:\n",
    "                return 7 # four of a kind -> five of a kind\n",
    "            elif card_counts[0] == 3:\n",
    "                return 6 # three of a kind -> four of a kind\n",
    "            elif card_counts[0] == 2:\n",
    "                if card_counts[1] == 2:\n",
    "                    return 5 # two pair -> full house\n",
    "                else:\n",
    "                    return 4 # one pair -> three of a kind\n",
    "            else:\n",
    "                return 2 # high card -> one pair\n",
    "\n",
    "\n",
    "    card_counts = [card[1] for card in hand_counter.most_common()]\n",
    "\n",
    "    if len(hand_counter) == 2:\n",
    "        if card_counts[0] == 4:\n",
    "            return 6 # four of a kind\n",
    "        else:\n",
    "            return 5 # full house\n",
    "    \n",
    "    elif len(hand_counter) == 3:\n",
    "        if card_counts[0] == 3:\n",
    "            return 4 # three of a kind\n",
    "        else:\n",
    "            return 3 # two pair\n",
    "    \n",
    "    elif len(hand_counter) == 4:\n",
    "        return 2 # one pair\n",
    "    \n",
    "    else:\n",
    "        return 1 # high card"
   ]
  },
  {
   "cell_type": "code",
   "execution_count": 4,
   "metadata": {},
   "outputs": [],
   "source": [
    "with open(\"data/2023/day_7.txt\") as file:\n",
    "    day_7_lines = file.read().strip().splitlines()\n"
   ]
  },
  {
   "cell_type": "code",
   "execution_count": 5,
   "metadata": {},
   "outputs": [
    {
     "name": "stdout",
     "output_type": "stream",
     "text": [
      "day 7a solution: 255048101\n"
     ]
    }
   ],
   "source": [
    "hands = [line.split(\" \")[0] for line in day_7_lines]\n",
    "hand_df = pd.DataFrame([[map_7a_card(card) for card in hand] for hand in hands])\n",
    "\n",
    "type_rank = []\n",
    "\n",
    "# group index values by hand type\n",
    "for ix, hand in hand_df.iterrows():\n",
    "    hand_counter = collections.Counter(hand)\n",
    "\n",
    "    if len(hand_counter) == 1:\n",
    "        type_rank.append(7) # five of a kind\n",
    "\n",
    "    elif len(hand_counter) == 2:\n",
    "        if hand_counter.most_common(1)[0][1] == 4:\n",
    "            type_rank.append(6) # four of a kind\n",
    "        else:\n",
    "            type_rank.append(5) # full house\n",
    "    \n",
    "    elif len(hand_counter) == 3:\n",
    "        if hand_counter.most_common(1)[0][1] == 3:\n",
    "            type_rank.append(4) # three of a kind\n",
    "        else:\n",
    "            type_rank.append(3) # two pair\n",
    "    \n",
    "    elif len(hand_counter) == 4:\n",
    "        type_rank.append(2) # one pair\n",
    "    \n",
    "    else:\n",
    "        type_rank.append(1) # high card\n",
    "\n",
    "hand_df[\"type\"] = type_rank\n",
    "\n",
    "hand_df[\"bid\"] = [line.split(\" \")[1] for line in day_7_lines]\n",
    "hand_df[\"bid\"] = hand_df[\"bid\"].astype(int)\n",
    "\n",
    "hand_df = hand_df.sort_values(by=[\"type\", 0, 1, 2, 3, 4], ascending=False).reset_index(drop=True)\n",
    "hand_df[\"winnings\"] = (hand_df.shape[0] - hand_df.index) * hand_df[\"bid\"]\n",
    "\n",
    "total_winnings = hand_df[\"winnings\"].sum()\n",
    "print(\"day 7a solution:\", total_winnings)"
   ]
  },
  {
   "cell_type": "code",
   "execution_count": 6,
   "metadata": {},
   "outputs": [
    {
     "name": "stdout",
     "output_type": "stream",
     "text": [
      "day 7b solution: 253718286\n"
     ]
    }
   ],
   "source": [
    "hands = [line.split(\" \")[0] for line in day_7_lines]\n",
    "hand_df = pd.DataFrame([[card for card in hand] for hand in hands])\n",
    "\n",
    "# group index values by hand type\n",
    "type_rank = []\n",
    "for _, hand in hand_df.iterrows():\n",
    "    type_rank.append(rank_7b_hand(hand))\n",
    "\n",
    "# append mapped hand info for 7b to hand df\n",
    "mapped_hand_df = pd.DataFrame([[map_7b_card(card) for card in hand] for hand in hands])\n",
    "mapped_hand_df.columns = [f\"map_{i}\" for i in range(5)]\n",
    "hand_df = pd.concat([hand_df, mapped_hand_df], axis=1)\n",
    "\n",
    "# calculate winnings\n",
    "hand_df[\"type\"] = type_rank\n",
    "hand_df[\"bid\"] = [line.split(\" \")[1] for line in day_7_lines]\n",
    "hand_df[\"bid\"] = hand_df[\"bid\"].astype(int)\n",
    "\n",
    "sort_cols = [\"type\", \"map_0\", \"map_1\", \"map_2\", \"map_3\", \"map_4\"]\n",
    "hand_df = hand_df.sort_values(by=sort_cols, ascending=False).reset_index(drop=True)\n",
    "hand_df[\"winnings\"] = (hand_df.shape[0] - hand_df.index) * hand_df[\"bid\"]\n",
    "\n",
    "total_winnings = hand_df[\"winnings\"].sum()\n",
    "print(\"day 7b solution:\", total_winnings)"
   ]
  },
  {
   "cell_type": "code",
   "execution_count": null,
   "metadata": {},
   "outputs": [],
   "source": []
  }
 ],
 "metadata": {
  "kernelspec": {
   "display_name": "advent-of-code-rjxGAg1e-py3.10",
   "language": "python",
   "name": "python3"
  },
  "language_info": {
   "codemirror_mode": {
    "name": "ipython",
    "version": 3
   },
   "file_extension": ".py",
   "mimetype": "text/x-python",
   "name": "python",
   "nbconvert_exporter": "python",
   "pygments_lexer": "ipython3",
   "version": "3.10.12"
  }
 },
 "nbformat": 4,
 "nbformat_minor": 2
}
