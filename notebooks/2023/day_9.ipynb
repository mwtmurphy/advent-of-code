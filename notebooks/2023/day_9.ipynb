{
 "cells": [
  {
   "cell_type": "code",
   "execution_count": 18,
   "metadata": {},
   "outputs": [],
   "source": [
    "import numpy as np"
   ]
  },
  {
   "cell_type": "code",
   "execution_count": 19,
   "metadata": {},
   "outputs": [
    {
     "name": "stdout",
     "output_type": "stream",
     "text": [
      "/Users/mwtmurphy/projects/advent-of-code\n"
     ]
    },
    {
     "name": "stderr",
     "output_type": "stream",
     "text": [
      "/Users/mwtmurphy/Library/Caches/pypoetry/virtualenvs/advent-of-code-rjxGAg1e-py3.10/lib/python3.10/site-packages/IPython/core/magics/osm.py:417: UserWarning: using dhist requires you to install the `pickleshare` library.\n",
      "  self.shell.db['dhist'] = compress_dhist(dhist)[-100:]\n"
     ]
    }
   ],
   "source": [
    "%cd ../.."
   ]
  },
  {
   "cell_type": "code",
   "execution_count": 48,
   "metadata": {},
   "outputs": [],
   "source": [
    "with open(\"data/2023/day_9.txt\") as file:\n",
    "    day_9_lines = file.read().strip().splitlines()"
   ]
  },
  {
   "cell_type": "code",
   "execution_count": 21,
   "metadata": {},
   "outputs": [
    {
     "name": "stdout",
     "output_type": "stream",
     "text": [
      "day 9a solution: 1584748274\n"
     ]
    }
   ],
   "source": [
    "total = 0\n",
    "for seq in day_9_lines:\n",
    "    seq = [int(el) for el in seq.split(\" \")]\n",
    "    last_val = seq[-1]\n",
    "\n",
    "    diff_log = []\n",
    "    zeros_found = False\n",
    "\n",
    "    while not zeros_found:\n",
    "        seq_diff = np.diff(seq)\n",
    "        \n",
    "        if not any(seq_diff):\n",
    "            zeros_found = True\n",
    "        else:\n",
    "            diff_log.append(seq_diff[-1])\n",
    "            seq = seq_diff\n",
    "\n",
    "    total += last_val + sum(diff_log)\n",
    "\n",
    "print(\"day 9a solution:\", total)"
   ]
  },
  {
   "cell_type": "code",
   "execution_count": 49,
   "metadata": {},
   "outputs": [
    {
     "name": "stdout",
     "output_type": "stream",
     "text": [
      "day 9b solution: 1026\n"
     ]
    }
   ],
   "source": [
    "total = 0\n",
    "for seq in day_9_lines:\n",
    "    seq = [int(el) for el in seq.split(\" \")]\n",
    "    first_val = seq[0]\n",
    "\n",
    "    diff_log = []\n",
    "    zeros_found = False\n",
    "\n",
    "    while not zeros_found:\n",
    "        seq_diff = np.diff(seq)\n",
    "        \n",
    "        if not any(seq_diff):\n",
    "            zeros_found = True\n",
    "        else:\n",
    "            diff_log.append(seq_diff[0])\n",
    "            seq = seq_diff\n",
    "\n",
    "    change = 0\n",
    "    for diff in diff_log[::-1]:\n",
    "        change = diff - change\n",
    "\n",
    "    total += first_val - change\n",
    "\n",
    "print(\"day 9b solution:\", total)"
   ]
  }
 ],
 "metadata": {
  "kernelspec": {
   "display_name": "advent-of-code-rjxGAg1e-py3.10",
   "language": "python",
   "name": "python3"
  },
  "language_info": {
   "codemirror_mode": {
    "name": "ipython",
    "version": 3
   },
   "file_extension": ".py",
   "mimetype": "text/x-python",
   "name": "python",
   "nbconvert_exporter": "python",
   "pygments_lexer": "ipython3",
   "version": "3.10.12"
  }
 },
 "nbformat": 4,
 "nbformat_minor": 2
}
