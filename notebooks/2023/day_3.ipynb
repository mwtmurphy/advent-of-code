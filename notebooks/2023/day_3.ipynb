{
 "cells": [
  {
   "cell_type": "code",
   "execution_count": 1,
   "metadata": {},
   "outputs": [],
   "source": [
    "import re"
   ]
  },
  {
   "cell_type": "code",
   "execution_count": 2,
   "metadata": {},
   "outputs": [
    {
     "name": "stdout",
     "output_type": "stream",
     "text": [
      "/Users/mwtmurphy/projects/advent-of-code\n"
     ]
    }
   ],
   "source": [
    "%cd ../.."
   ]
  },
  {
   "cell_type": "code",
   "execution_count": 3,
   "metadata": {},
   "outputs": [],
   "source": [
    "with open(\"data/2023/day_3.txt\") as file:\n",
    "    day_3_str = file.read()\n",
    "\n",
    "chars = list(set(day_3_str))\n",
    "\n",
    "symbols = []\n",
    "for char in chars:\n",
    "    if char not in [str(val) for val in range(10)] + [\".\", \"*\", \"\\n\"]:\n",
    "        symbols.append(char)\n",
    "\n",
    "for char in symbols:\n",
    "    day_3_str = day_3_str.replace(char, \"*\")\n",
    "\n",
    "day_3_list = day_3_str.split(\"\\n\")"
   ]
  },
  {
   "cell_type": "code",
   "execution_count": 4,
   "metadata": {},
   "outputs": [
    {
     "name": "stdout",
     "output_type": "stream",
     "text": [
      "day 3a solution: 549908\n"
     ]
    }
   ],
   "source": [
    "total = 0\n",
    "\n",
    "# add and replace values on same line touching symbol\n",
    "for ix, line in enumerate(day_3_list):\n",
    "    if \"*\" in line:\n",
    "        symbol_ix = [ix for ix, char in enumerate(line) if char==\"*\"]\n",
    "        same_line_vals = re.findall(r\"\\d+\\*\", line) + re.findall(r\"\\*\\d+\", line)\n",
    "    \n",
    "        if len(same_line_vals):\n",
    "            for val in same_line_vals:\n",
    "                day_3_list[ix] = day_3_list[ix].replace(val, \".\"*len(val))\n",
    "                total += int(val.replace(\"*\", \"\"))\n",
    "\n",
    "            for s_ix in symbol_ix:\n",
    "                day_3_list[ix] = day_3_list[ix][:s_ix] + \"*\" + day_3_list[ix][s_ix + 1:]\n",
    "\n",
    "for ix, line in enumerate(day_3_list):\n",
    "    if \"*\" in line:\n",
    "        # wrap 'a' around character directly above and below symbol to identify valid values\n",
    "        symbol_ix = [ix for ix, char in enumerate(line) if char==\"*\"]\n",
    "        for n, s_ix in enumerate(symbol_ix):\n",
    "            day_3_list[ix-1] = day_3_list[ix-1][:s_ix + n*2] + \"a\" + day_3_list[ix-1][s_ix + n*2:]\n",
    "            day_3_list[ix-1] = day_3_list[ix-1][:s_ix + 2 + n*2] + \"a\" + day_3_list[ix-1][s_ix + 2 + n*2:]\n",
    "\n",
    "            day_3_list[ix+1] = day_3_list[ix+1][:s_ix + n*2] + \"a\" + day_3_list[ix+1][s_ix + n*2:]\n",
    "            day_3_list[ix+1] = day_3_list[ix+1][:s_ix + 2 + n*2] + \"a\" + day_3_list[ix+1][s_ix + 2 + n*2:]\n",
    "\n",
    "        # add and remove all values from line above to total\n",
    "        for val in re.findall(r\"a\\da\\d+|\\d+a\\da\\d+|\\d+a\\da|a\\d+|\\d+a\", day_3_list[ix-1]):\n",
    "            a_count = val.count(\"a\")\n",
    "            day_3_list[ix-1] = day_3_list[ix-1].replace(val, \".\" * (len(val) - a_count))\n",
    "            total += int(val.replace(\"a\", \"\"))\n",
    "        day_3_list[ix-1] = day_3_list[ix-1].replace(\"a\", \"\")\n",
    "\n",
    "        # add and remove all values from line below to total\n",
    "        for val in re.findall(r\"a\\da\\d+|\\d+a\\da\\d+|\\d+a\\da|a\\d+|\\d+a\", day_3_list[ix+1]):\n",
    "            a_count = val.count(\"a\")\n",
    "            day_3_list[ix+1] = day_3_list[ix+1].replace(val, \".\" * (len(val) - a_count))\n",
    "            total += int(val.replace(\"a\", \"\"))\n",
    "        day_3_list[ix+1] = day_3_list[ix+1].replace(\"a\", \"\")\n",
    "\n",
    "print(\"day 3a solution:\", total)"
   ]
  },
  {
   "cell_type": "code",
   "execution_count": 8,
   "metadata": {},
   "outputs": [],
   "source": [
    "with open(\"data/2023/day_3.txt\") as file:\n",
    "    day_3_str = file.read()\n",
    "    \n",
    "chars = list(set(day_3_str))\n",
    "\n",
    "symbols = []\n",
    "for char in chars:\n",
    "    if char not in [str(val) for val in range(10)] + [\".\", \"*\", \"\\n\"]:\n",
    "        symbols.append(char)\n",
    "\n",
    "for char in symbols:\n",
    "    day_3_str = day_3_str.replace(char, \".\")\n",
    "\n",
    "day_3_list = day_3_str.split(\"\\n\")"
   ]
  },
  {
   "cell_type": "code",
   "execution_count": 9,
   "metadata": {},
   "outputs": [
    {
     "name": "stdout",
     "output_type": "stream",
     "text": [
      "day 3b solution: 81166799\n"
     ]
    }
   ],
   "source": [
    "total = 0\n",
    "for ix, line in enumerate(day_3_list):\n",
    "    symbol_ix = [ix for ix, char in enumerate(line) if char==\"*\"]\n",
    "\n",
    "    if not symbol_ix:\n",
    "        continue\n",
    "    \n",
    "    for s_ix in symbol_ix:\n",
    "        up_line = day_3_list[ix-1][:s_ix] + \"a\" + day_3_list[ix-1][s_ix:]\n",
    "        up_line = up_line[:s_ix + 2] + \"a\" + up_line[s_ix + 2:]\n",
    "        line = day_3_list[ix][:s_ix] + \"a\" + day_3_list[ix][s_ix + 1:]\n",
    "        down_line = day_3_list[ix+1][:s_ix] + \"a\" + day_3_list[ix+1][s_ix:]\n",
    "        down_line = down_line[:s_ix + 2] + \"a\" + down_line[s_ix + 2:]\n",
    "\n",
    "        vals = (re.findall(r\"a\\da\\d+|\\d+a\\da\\d+|\\d+a\\da|a\\d+|\\d+a\", up_line)\n",
    "                + re.findall(r\"\\d+a\", line) + re.findall(r\"a\\d+\", line)\n",
    "                + re.findall(r\"a\\da\\d+|\\d+a\\da\\d+|\\d+a\\da|a\\d+|\\d+a\", down_line))\n",
    "\n",
    "        if len(vals) == 2:\n",
    "            total += int(vals[0].replace(\"a\", \"\")) * int(vals[1].replace(\"a\", \"\"))\n",
    "        \n",
    "print(\"day 3b solution:\", total)\n",
    "        "
   ]
  },
  {
   "cell_type": "code",
   "execution_count": null,
   "metadata": {},
   "outputs": [],
   "source": []
  }
 ],
 "metadata": {
  "kernelspec": {
   "display_name": "advent-of-code-rjxGAg1e-py3.10",
   "language": "python",
   "name": "python3"
  },
  "language_info": {
   "codemirror_mode": {
    "name": "ipython",
    "version": 3
   },
   "file_extension": ".py",
   "mimetype": "text/x-python",
   "name": "python",
   "nbconvert_exporter": "python",
   "pygments_lexer": "ipython3",
   "version": "3.10.12"
  }
 },
 "nbformat": 4,
 "nbformat_minor": 2
}
