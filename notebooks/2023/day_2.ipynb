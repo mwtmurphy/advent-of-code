{
 "cells": [
  {
   "cell_type": "code",
   "execution_count": 9,
   "metadata": {},
   "outputs": [],
   "source": [
    "import re"
   ]
  },
  {
   "cell_type": "code",
   "execution_count": 3,
   "metadata": {},
   "outputs": [
    {
     "name": "stdout",
     "output_type": "stream",
     "text": [
      "/Users/mwtmurphy/projects/advent-of-code\n"
     ]
    },
    {
     "name": "stderr",
     "output_type": "stream",
     "text": [
      "/Users/mwtmurphy/Library/Caches/pypoetry/virtualenvs/advent-of-code-rjxGAg1e-py3.10/lib/python3.10/site-packages/IPython/core/magics/osm.py:417: UserWarning: using dhist requires you to install the `pickleshare` library.\n",
      "  self.shell.db['dhist'] = compress_dhist(dhist)[-100:]\n"
     ]
    }
   ],
   "source": [
    "%cd ../.."
   ]
  },
  {
   "cell_type": "code",
   "execution_count": 4,
   "metadata": {},
   "outputs": [],
   "source": [
    "with open(\"data/2023/day_2.txt\") as file:\n",
    "    day_2_str = file.read().strip()"
   ]
  },
  {
   "cell_type": "code",
   "execution_count": 13,
   "metadata": {},
   "outputs": [
    {
     "name": "stdout",
     "output_type": "stream",
     "text": [
      "day 2a solution: 2317\n"
     ]
    }
   ],
   "source": [
    "red_lim = 12\n",
    "green_lim = 13\n",
    "blue_lim = 14\n",
    "total = 0\n",
    "\n",
    "for game in day_2_str.split(\"\\n\"):\n",
    "    \n",
    "    # blue\n",
    "    if max([int(val) for val in re.findall(r\"\\d+(?=\\ blue)\", game)]) > blue_lim:\n",
    "        continue\n",
    "\n",
    "    # green\n",
    "    if max([int(val) for val in re.findall(r\"\\d+(?=\\ green)\", game)]) > green_lim:\n",
    "        continue\n",
    "\n",
    "    # red\n",
    "    if max([int(val) for val in re.findall(r\"\\d+(?=\\ red)\", game)]) > red_lim:\n",
    "        continue\n",
    "\n",
    "    # add game num if viable\n",
    "    total += int(game.split(\":\")[0].replace(\"Game \", \"\"))\n",
    "\n",
    "print(\"day 2a solution:\", total)"
   ]
  },
  {
   "cell_type": "code",
   "execution_count": 14,
   "metadata": {},
   "outputs": [
    {
     "name": "stdout",
     "output_type": "stream",
     "text": [
      "day 2b solution: 74804\n"
     ]
    }
   ],
   "source": [
    "total = 0\n",
    "\n",
    "for game in day_2_str.split(\"\\n\"):\n",
    "    \n",
    "    blue_min = max([int(val) for val in re.findall(r\"\\d+(?=\\ blue)\", game)])\n",
    "    green_min = max([int(val) for val in re.findall(r\"\\d+(?=\\ green)\", game)])\n",
    "    red_min = max([int(val) for val in re.findall(r\"\\d+(?=\\ red)\", game)])\n",
    "    \n",
    "    total += (blue_min * green_min * red_min)\n",
    "\n",
    "print(\"day 2b solution:\", total)"
   ]
  },
  {
   "cell_type": "code",
   "execution_count": null,
   "metadata": {},
   "outputs": [],
   "source": []
  }
 ],
 "metadata": {
  "kernelspec": {
   "display_name": "advent-of-code-rjxGAg1e-py3.10",
   "language": "python",
   "name": "python3"
  },
  "language_info": {
   "codemirror_mode": {
    "name": "ipython",
    "version": 3
   },
   "file_extension": ".py",
   "mimetype": "text/x-python",
   "name": "python",
   "nbconvert_exporter": "python",
   "pygments_lexer": "ipython3",
   "version": "3.10.12"
  }
 },
 "nbformat": 4,
 "nbformat_minor": 2
}
