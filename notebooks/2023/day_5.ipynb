{
 "cells": [
  {
   "cell_type": "code",
   "execution_count": 2,
   "metadata": {},
   "outputs": [
    {
     "name": "stdout",
     "output_type": "stream",
     "text": [
      "/Users/mwtmurphy/projects/advent-of-code\n"
     ]
    },
    {
     "name": "stderr",
     "output_type": "stream",
     "text": [
      "/Users/mwtmurphy/Library/Caches/pypoetry/virtualenvs/advent-of-code-rjxGAg1e-py3.10/lib/python3.10/site-packages/IPython/core/magics/osm.py:417: UserWarning: using dhist requires you to install the `pickleshare` library.\n",
      "  self.shell.db['dhist'] = compress_dhist(dhist)[-100:]\n"
     ]
    }
   ],
   "source": [
    "%cd ../.."
   ]
  },
  {
   "cell_type": "code",
   "execution_count": 32,
   "metadata": {},
   "outputs": [],
   "source": [
    " with open(\"data/2023/day_5.txt\") as file:\n",
    "     day_5_str = file.read().strip()"
   ]
  },
  {
   "cell_type": "code",
   "execution_count": 5,
   "metadata": {},
   "outputs": [
    {
     "name": "stdout",
     "output_type": "stream",
     "text": [
      "day 5a solution: 379811651\n"
     ]
    }
   ],
   "source": [
    "day_5_sections = day_5_str.split(\"\\n\\n\")\n",
    "\n",
    "for ix, section in enumerate(day_5_sections, start=1):\n",
    "    label, numbers = section.split(\":\")\n",
    "    numbers = numbers.strip().lstrip(\"\\n\")\n",
    "    \n",
    "    if label == \"seeds\":\n",
    "        seed_rows = [[int(el)] for el in numbers.split(\" \")]\n",
    "\n",
    "    else:\n",
    "        num_maps = numbers.split(\"\\n\")\n",
    "        \n",
    "        for seed_row in seed_rows:\n",
    "            sec_val = seed_row[-1]\n",
    "\n",
    "            for num_map in num_maps:\n",
    "                dest_n, source_n, range_n = [int(el) for el in num_map.split(\" \")]\n",
    "                source_range = (source_n, source_n + range_n - 1)\n",
    "                sd_diff = source_n - dest_n\n",
    "                \n",
    "                if sec_val >= source_range[0] and sec_val <= source_range[1]:\n",
    "                    seed_row.append(sec_val - sd_diff)\n",
    "                    break\n",
    "                       \n",
    "        for seed_row in seed_rows:\n",
    "            if len(seed_row) < ix:\n",
    "                seed_row.append(seed_row[-1])\n",
    "\n",
    "min_value = min([row[-1] for row in seed_rows])\n",
    "\n",
    "print(\"day 5a solution:\", min_value)\n"
   ]
  },
  {
   "cell_type": "code",
   "execution_count": 33,
   "metadata": {},
   "outputs": [],
   "source": [
    "# clean values in input\n",
    "day_5_sections = day_5_str.split(\"\\n\\n\")\n",
    "\n",
    "section_ranges = {}\n",
    "for ix, section in enumerate(day_5_sections):\n",
    "    label, numbers = section.split(\":\")\n",
    "    numbers = numbers.strip().lstrip(\"\\n\")\n",
    "\n",
    "    if ix == 0: # get seed ranges\n",
    "        seed_vals = [int(el) for el in numbers.split(\" \")]\n",
    "        seed_ranges = []\n",
    "        for ix in range(0, len(seed_vals), 2):\n",
    "            seed_ranges.append(seed_vals[ix:ix+2])\n",
    "\n",
    "    else: # get x-to-y ranges\n",
    "        num_maps = numbers.split(\"\\n\")\n",
    "        map_ranges = []\n",
    "        for num_map in num_maps:\n",
    "            map_ranges.append([int(el) for el in num_map.split(\" \")])\n",
    "        section_ranges[ix] = map_ranges\n",
    "\n",
    "# find first seed that matches lowest location (takes 7m 50s to find my solution)\n",
    "loc_n = 0\n",
    "seed_found = False\n",
    "\n",
    "while not seed_found:\n",
    "    val = loc_n\n",
    "\n",
    "    for sec_ix in range(len(section_ranges), 0, -1):\n",
    "        for val_map in section_ranges[sec_ix]:\n",
    "            if val_map[0] <= val < val_map[0] + val_map[2]:\n",
    "                val += (val_map[1] - val_map[0])\n",
    "                break\n",
    "        \n",
    "    for seed_range in seed_ranges:\n",
    "        if seed_range[0] <= val < seed_range[0] + seed_range[1]:\n",
    "            seed_found = True\n",
    "            min_value = loc_n\n",
    "            break\n",
    "\n",
    "    loc_n += 1\n",
    "\n",
    "print(\"day 5b solution:\", min_value)"
   ]
  }
 ],
 "metadata": {
  "kernelspec": {
   "display_name": "advent-of-code-rjxGAg1e-py3.10",
   "language": "python",
   "name": "python3"
  },
  "language_info": {
   "codemirror_mode": {
    "name": "ipython",
    "version": 3
   },
   "file_extension": ".py",
   "mimetype": "text/x-python",
   "name": "python",
   "nbconvert_exporter": "python",
   "pygments_lexer": "ipython3",
   "version": "3.10.12"
  }
 },
 "nbformat": 4,
 "nbformat_minor": 2
}
