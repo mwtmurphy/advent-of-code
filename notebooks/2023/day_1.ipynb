{
 "cells": [
  {
   "cell_type": "code",
   "execution_count": 5,
   "metadata": {},
   "outputs": [],
   "source": [
    "import re"
   ]
  },
  {
   "cell_type": "code",
   "execution_count": 1,
   "metadata": {},
   "outputs": [
    {
     "name": "stdout",
     "output_type": "stream",
     "text": [
      "/Users/mwtmurphy/projects/advent-of-code\n"
     ]
    },
    {
     "name": "stderr",
     "output_type": "stream",
     "text": [
      "/Users/mwtmurphy/Library/Caches/pypoetry/virtualenvs/advent-of-code-rjxGAg1e-py3.10/lib/python3.10/site-packages/IPython/core/magics/osm.py:417: UserWarning: using dhist requires you to install the `pickleshare` library.\n",
      "  self.shell.db['dhist'] = compress_dhist(dhist)[-100:]\n"
     ]
    }
   ],
   "source": [
    "%cd ../.."
   ]
  },
  {
   "cell_type": "code",
   "execution_count": 34,
   "metadata": {},
   "outputs": [
    {
     "name": "stdout",
     "output_type": "stream",
     "text": [
      "day 1a solution: 54697\n"
     ]
    }
   ],
   "source": [
    "with open(\"data/2023/day_1.txt\") as file:\n",
    "    day_1_str = file.read().strip()\n",
    "\n",
    "total = 0\n",
    "for code in day_1_str.split(\"\\n\"):\n",
    "    first_match = re.search('\\d', code).group()\n",
    "    last_match = re.search('\\d', code[::-1]).group()\n",
    "\n",
    "    total += int(first_match + last_match)\n",
    "\n",
    "print(\"day 1a solution:\", total)"
   ]
  },
  {
   "cell_type": "code",
   "execution_count": 57,
   "metadata": {},
   "outputs": [
    {
     "name": "stdout",
     "output_type": "stream",
     "text": [
      "day 1b solution: 54885\n"
     ]
    }
   ],
   "source": [
    "val_strs = [\"one\", \"two\", \"three\", \"four\", \"five\", \"six\", \"seven\", \"eight\", \"nine\"]\n",
    "val_map = {\n",
    "    s: f\"{s[0]}{n}{s[-1]}\" for n, s in enumerate(val_strs, start=1)\n",
    "}\n",
    "\n",
    "for key, val in val_map.items():\n",
    "    day_1_str = day_1_str.replace(key, val)\n",
    "\n",
    "total = 0\n",
    "for code in day_1_str.split(\"\\n\"):\n",
    "    first_match = re.search('\\d', code).group()\n",
    "    last_match = re.search('\\d', code[::-1]).group()\n",
    "\n",
    "    total += int(first_match + last_match)\n",
    "\n",
    "print(\"day 1b solution:\", total)"
   ]
  }
 ],
 "metadata": {
  "kernelspec": {
   "display_name": "advent-of-code-rjxGAg1e-py3.10",
   "language": "python",
   "name": "python3"
  },
  "language_info": {
   "codemirror_mode": {
    "name": "ipython",
    "version": 3
   },
   "file_extension": ".py",
   "mimetype": "text/x-python",
   "name": "python",
   "nbconvert_exporter": "python",
   "pygments_lexer": "ipython3",
   "version": "3.10.12"
  }
 },
 "nbformat": 4,
 "nbformat_minor": 2
}
