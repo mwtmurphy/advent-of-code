{
 "cells": [
  {
   "cell_type": "code",
   "execution_count": 1,
   "metadata": {},
   "outputs": [],
   "source": [
    "import math"
   ]
  },
  {
   "cell_type": "code",
   "execution_count": 2,
   "metadata": {},
   "outputs": [
    {
     "name": "stdout",
     "output_type": "stream",
     "text": [
      "/Users/mwtmurphy/projects/advent-of-code\n"
     ]
    }
   ],
   "source": [
    "%cd ../.."
   ]
  },
  {
   "cell_type": "code",
   "execution_count": 3,
   "metadata": {},
   "outputs": [],
   "source": [
    "with open(\"data/2023/day_8.txt\") as file:\n",
    "    day_8_lines = file.read().strip().splitlines()"
   ]
  },
  {
   "cell_type": "code",
   "execution_count": 4,
   "metadata": {},
   "outputs": [
    {
     "name": "stdout",
     "output_type": "stream",
     "text": [
      "day 8a solution: 19951\n"
     ]
    }
   ],
   "source": [
    "# clean instructions and locations\n",
    "instructions = [0 if instruction == \"L\" else 1 for instruction in day_8_lines[0]]\n",
    "\n",
    "locations = {}\n",
    "for line in day_8_lines[2:]:\n",
    "\n",
    "    loc, next_locs = line.split(\" = \")\n",
    "    loc_0, loc_1 = next_locs[1:-1].split(\", \")\n",
    "\n",
    "    locations[loc] = {\n",
    "        0: loc_0,\n",
    "        1: loc_1\n",
    "    }\n",
    "\n",
    "# run only if 'AAA' in locations data\n",
    "if \"AAA\" in locations.keys():\n",
    "    cur_loc = \"AAA\"\n",
    "    n_steps = 0\n",
    "    while cur_loc != \"ZZZ\":\n",
    "        for ins in instructions:\n",
    "            cur_loc = locations[cur_loc][ins]\n",
    "            n_steps += 1\n",
    "\n",
    "            if cur_loc == \"ZZZ\":\n",
    "                break\n",
    "\n",
    "    print(\"day 8a solution:\", n_steps)"
   ]
  },
  {
   "cell_type": "code",
   "execution_count": 5,
   "metadata": {},
   "outputs": [
    {
     "name": "stdout",
     "output_type": "stream",
     "text": [
      "day 8b solution: 16342438708751\n"
     ]
    }
   ],
   "source": [
    "cur_locs = [loc for loc in locations.keys() if loc[2] == \"A\"]\n",
    "\n",
    "n_steps = 0\n",
    "first_end_step = []\n",
    "\n",
    "if len(cur_locs):\n",
    "    while len(cur_locs):\n",
    "        for ins in instructions:\n",
    "            cur_locs = list(map(lambda loc: locations[loc][ins], cur_locs))\n",
    "            n_steps += 1\n",
    "\n",
    "            # identify end node steps taken for each path\n",
    "            for loc in cur_locs:\n",
    "                if loc[2] == \"Z\":\n",
    "                    first_end_step.append(n_steps)\n",
    "                    cur_locs.remove(loc)\n",
    "\n",
    "# identify lowest common multiple of all path end node steps \n",
    "result = 1\n",
    "for step in first_end_step:\n",
    "    result = result * step // math.gcd(result, step)\n",
    "\n",
    "print(\"day 8b solution:\", result)"
   ]
  },
  {
   "cell_type": "code",
   "execution_count": null,
   "metadata": {},
   "outputs": [],
   "source": []
  }
 ],
 "metadata": {
  "kernelspec": {
   "display_name": "advent-of-code-rjxGAg1e-py3.10",
   "language": "python",
   "name": "python3"
  },
  "language_info": {
   "codemirror_mode": {
    "name": "ipython",
    "version": 3
   },
   "file_extension": ".py",
   "mimetype": "text/x-python",
   "name": "python",
   "nbconvert_exporter": "python",
   "pygments_lexer": "ipython3",
   "version": "3.10.12"
  }
 },
 "nbformat": 4,
 "nbformat_minor": 2
}
