{
 "cells": [
  {
   "cell_type": "code",
   "execution_count": 2,
   "metadata": {},
   "outputs": [],
   "source": [
    "import re"
   ]
  },
  {
   "cell_type": "code",
   "execution_count": 3,
   "metadata": {},
   "outputs": [
    {
     "name": "stdout",
     "output_type": "stream",
     "text": [
      "/Users/mwtmurphy/projects/advent-of-code\n"
     ]
    },
    {
     "name": "stderr",
     "output_type": "stream",
     "text": [
      "/Users/mwtmurphy/Library/Caches/pypoetry/virtualenvs/advent-of-code-rjxGAg1e-py3.10/lib/python3.10/site-packages/IPython/core/magics/osm.py:417: UserWarning: using dhist requires you to install the `pickleshare` library.\n",
      "  self.shell.db['dhist'] = compress_dhist(dhist)[-100:]\n"
     ]
    }
   ],
   "source": [
    "%cd ../.."
   ]
  },
  {
   "cell_type": "code",
   "execution_count": 25,
   "metadata": {},
   "outputs": [
    {
     "name": "stdout",
     "output_type": "stream",
     "text": [
      "day 4a solution: 21158\n"
     ]
    }
   ],
   "source": [
    "with open(\"data/2023/day_4.txt\") as file:\n",
    "    day_4_lines = file.read().strip().split(\"\\n\")\n",
    "\n",
    "total = 0\n",
    "cards_won = {} # for 4b\n",
    "n_cards = len(day_4_lines)\n",
    "\n",
    "for line in day_4_lines:\n",
    "    card, nums = line.split(\":\")\n",
    "    card_n = int(card.split(\" \")[-1])\n",
    "    win_nums = [int(val.strip()) for val in nums.split(\"|\")[0].split(\" \") if val.strip() != \"\"]\n",
    "    game_nums = [int(val.strip()) for val in nums.split(\"|\")[1].split(\" \") if val.strip() != \"\"]\n",
    "\n",
    "    win_count = 0\n",
    "    for gn in game_nums:\n",
    "        if gn in win_nums:\n",
    "            win_count += 1\n",
    "\n",
    "    cards_won[card_n] = list(range(card_n + 1, min(card_n + 1 + win_count, n_cards + 1))) # for 4b\n",
    "    game_score = 2 ** (win_count - 1) if win_count > 0 else 0\n",
    "    total += game_score\n",
    "\n",
    "print(\"day 4a solution:\", total)\n"
   ]
  },
  {
   "cell_type": "code",
   "execution_count": 27,
   "metadata": {},
   "outputs": [
    {
     "name": "stdout",
     "output_type": "stream",
     "text": [
      "day 4b solution: 6050769\n"
     ]
    }
   ],
   "source": [
    "total = 0\n",
    "unused_cards = list(range(1, len(day_4_lines) + 1))\n",
    "\n",
    "while len(unused_cards):\n",
    "    next_unused_cards = []\n",
    "\n",
    "    for card_n in unused_cards:\n",
    "        next_unused_cards += cards_won[card_n]\n",
    "        total += 1\n",
    "\n",
    "    unused_cards = next_unused_cards\n",
    "\n",
    "print(\"day 4b solution:\", total)"
   ]
  }
 ],
 "metadata": {
  "kernelspec": {
   "display_name": "advent-of-code-rjxGAg1e-py3.10",
   "language": "python",
   "name": "python3"
  },
  "language_info": {
   "codemirror_mode": {
    "name": "ipython",
    "version": 3
   },
   "file_extension": ".py",
   "mimetype": "text/x-python",
   "name": "python",
   "nbconvert_exporter": "python",
   "pygments_lexer": "ipython3",
   "version": "3.10.12"
  }
 },
 "nbformat": 4,
 "nbformat_minor": 2
}
