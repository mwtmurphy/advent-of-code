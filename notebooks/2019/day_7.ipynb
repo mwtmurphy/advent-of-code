{
 "cells": [
  {
   "cell_type": "code",
   "execution_count": 4,
   "metadata": {},
   "outputs": [],
   "source": [
    "import itertools\n",
    "import typing\n",
    "\n",
    "import numpy as np"
   ]
  },
  {
   "cell_type": "code",
   "execution_count": 5,
   "metadata": {},
   "outputs": [],
   "source": [
    "# helper functions\n",
    "def get_amp_output(ic: np.ndarray, comms: typing.Tuple[int, int]) -> list:\n",
    "    '''Returns amp output for phase setting and signal: (setting, sig).'''\n",
    "    ix = 0\n",
    "    id_ix = 0\n",
    "    diag_codes = []\n",
    "\n",
    "    while ix < len(ic):\n",
    "        pars = f\"{ic[ix]:04}\"\n",
    "        opcode = int(pars[2:]) \n",
    "            \n",
    "        if opcode == 3:\n",
    "            ic[ic[ix+1]] = comms[id_ix]\n",
    "            id_ix += 1\n",
    "            ix += 2\n",
    "        elif opcode == 4:\n",
    "            diag_codes.append(ic[ic[ix+1]])\n",
    "            comms.append(ic[ic[ix+1]])\n",
    "            ix += 2            \n",
    "        elif opcode == 99:\n",
    "            break\n",
    "            \n",
    "        else:\n",
    "            val_1 = ic[ic[ix+1]] if int(pars[1]) == 0 else ic[ix+1]\n",
    "            val_2 = ic[ic[ix+2]] if int(pars[0]) == 0 else ic[ix+2]\n",
    "            \n",
    "            if opcode == 1: \n",
    "                ic[ic[ix+3]] = val_1 + val_2\n",
    "            if opcode == 2:\n",
    "                ic[ic[ix+3]] = val_1 * val_2\n",
    "            if opcode == 7:\n",
    "                ic[ic[ix+3]] = 1 if val_1 < val_2 else 0\n",
    "            if opcode == 8:\n",
    "                ic[ic[ix+3]] = 1 if val_1 == val_2 else 0\n",
    "             \n",
    "            if opcode == 5:\n",
    "                ix = val_2 if val_1 != 0 else ix + 3\n",
    "            elif opcode == 6:\n",
    "                ix = val_2 if val_1 == 0 else ix + 3\n",
    "            else:\n",
    "                ix += 4\n",
    "        \n",
    "    return diag_codes\n",
    "\n",
    "def get_amp_loop_output(ic: np.ndarray, ic_ix: int, comms: typing.List[int], \n",
    "                        comms_ix: int) -> typing.Tuple[list, int, bool]:\n",
    "    '''Returns amp output, index of pause, and whether the opcode '99' \n",
    "    was performed. Requires intcode, start index for intcode, list of \n",
    "    commands, and what command index to start on'''\n",
    "    ix = ic_ix\n",
    "    id_ix = comms_ix\n",
    "    diag_codes = []\n",
    "    code_99 = False\n",
    "    \n",
    "    while ix < len(ic):\n",
    "        pars = f\"{ic[ix]:04}\"\n",
    "        opcode = int(pars[2:]) \n",
    "            \n",
    "        if opcode == 3:\n",
    "            ic[ic[ix+1]] = comms[id_ix]\n",
    "            id_ix += 1\n",
    "            ix += 2\n",
    "        elif opcode == 4:\n",
    "            diag_codes.append(ic[ic[ix+1]])\n",
    "            ix += 2\n",
    "            break\n",
    "        elif opcode == 99:\n",
    "            code_99 = True\n",
    "            break\n",
    "            \n",
    "        else:\n",
    "            val_1 = ic[ic[ix+1]] if int(pars[1]) == 0 else ic[ix+1]\n",
    "            val_2 = ic[ic[ix+2]] if int(pars[0]) == 0 else ic[ix+2]\n",
    "            \n",
    "            if opcode == 1: \n",
    "                ic[ic[ix+3]] = val_1 + val_2\n",
    "            if opcode == 2:\n",
    "                ic[ic[ix+3]] = val_1 * val_2\n",
    "            if opcode == 7:\n",
    "                ic[ic[ix+3]] = 1 if val_1 < val_2 else 0\n",
    "            if opcode == 8:\n",
    "                ic[ic[ix+3]] = 1 if val_1 == val_2 else 0\n",
    "             \n",
    "            if opcode == 5:\n",
    "                ix = val_2 if val_1 != 0 else ix + 3\n",
    "            elif opcode == 6:\n",
    "                ix = val_2 if val_1 == 0 else ix + 3\n",
    "            else:\n",
    "                ix += 4\n",
    "        \n",
    "    return diag_codes, ix, code_99"
   ]
  },
  {
   "cell_type": "code",
   "execution_count": 3,
   "metadata": {},
   "outputs": [
    {
     "name": "stdout",
     "output_type": "stream",
     "text": [
      "/Users/mwtmurphy/projects/advent-of-code\n"
     ]
    },
    {
     "name": "stderr",
     "output_type": "stream",
     "text": [
      "/Users/mwtmurphy/Library/Caches/pypoetry/virtualenvs/advent-of-code-rjxGAg1e-py3.10/lib/python3.10/site-packages/IPython/core/magics/osm.py:417: UserWarning: using dhist requires you to install the `pickleshare` library.\n",
      "  self.shell.db['dhist'] = compress_dhist(dhist)[-100:]\n"
     ]
    }
   ],
   "source": [
    "%cd ../.."
   ]
  },
  {
   "cell_type": "code",
   "execution_count": 7,
   "metadata": {},
   "outputs": [
    {
     "name": "stdout",
     "output_type": "stream",
     "text": [
      "** Day 7 **\n",
      "Highest signal that can be sent for problem 7.1: 440880\n",
      "Highest signal that can be sent for problem 7.2: 3745599\n",
      "\n"
     ]
    }
   ],
   "source": [
    "with open(\"data/2019/day_7.txt\") as infile:\n",
    "    intcode = np.array(infile.read().split(\",\"), dtype=int)\n",
    "\n",
    "    phases = list(itertools.permutations(range(5)))\n",
    "    out_thrusts = []\n",
    "\n",
    "    for seq in phases:\n",
    "        in_sig = 0\n",
    "        intcode_copy = intcode.copy()\n",
    "        \n",
    "        for in_code in seq:\n",
    "            amp_output = get_amp_output(intcode_copy, [in_code, in_sig])\n",
    "            in_sig = amp_output[0]\n",
    "            \n",
    "        out_thrusts.append(amp_output[0])\n",
    "\n",
    "    ans_1 = max(out_thrusts)\n",
    "\n",
    "    phases = list(itertools.permutations(range(5, 10)))\n",
    "    out_thrusts = []\n",
    "\n",
    "    for seq in phases:\n",
    "        in_sig = 0\n",
    "        com_ix = 0\n",
    "        code_99 = False\n",
    "        \n",
    "        state = {}\n",
    "        for i in range(5, 10):\n",
    "            state[i] = {\"ix\": 0, \"ic\": intcode.copy()}\n",
    "        \n",
    "        while not code_99:\n",
    "            for in_code in seq:\n",
    "                amp_output, state[in_code][\"ix\"], code_99 = get_amp_loop_output(\n",
    "                    state[in_code][\"ic\"], state[in_code][\"ix\"], [in_code, in_sig], com_ix\n",
    "                )\n",
    "                \n",
    "                if amp_output:\n",
    "                    in_sig = amp_output[0]\n",
    "                else:\n",
    "                    break\n",
    "                \n",
    "            if not com_ix:\n",
    "                com_ix = 1\n",
    "            \n",
    "        out_thrusts.append(in_sig)\n",
    "\n",
    "    ans_2 = max(out_thrusts)\n",
    "\n",
    "    print(\"** Day 7 **\")\n",
    "    print(f\"Highest signal that can be sent for problem 7.1: {ans_1}\")\n",
    "    print(f\"Highest signal that can be sent for problem 7.2: {ans_2}\", end=\"\\n\\n\")"
   ]
  },
  {
   "cell_type": "code",
   "execution_count": null,
   "metadata": {},
   "outputs": [],
   "source": []
  }
 ],
 "metadata": {
  "kernelspec": {
   "display_name": "advent-of-code-rjxGAg1e-py3.10",
   "language": "python",
   "name": "python3"
  },
  "language_info": {
   "codemirror_mode": {
    "name": "ipython",
    "version": 3
   },
   "file_extension": ".py",
   "mimetype": "text/x-python",
   "name": "python",
   "nbconvert_exporter": "python",
   "pygments_lexer": "ipython3",
   "version": "3.10.12"
  }
 },
 "nbformat": 4,
 "nbformat_minor": 2
}
