{
 "cells": [
  {
   "cell_type": "code",
   "execution_count": 1,
   "metadata": {},
   "outputs": [],
   "source": [
    "import typing"
   ]
  },
  {
   "cell_type": "code",
   "execution_count": 2,
   "metadata": {},
   "outputs": [],
   "source": [
    "# helper functions\n",
    "def get_wire_coords(wire: typing.List[str]) -> typing.List[tuple]:\n",
    "    '''Returns (x, y) coordinates for every sequential position of wire'''\n",
    "    coords = [(0, 0)]\n",
    "    \n",
    "    for move in wire:    \n",
    "        move_dir = move[0]\n",
    "        move_lim =  int(move[1:]) + 1\n",
    "        pcoord = coords[-1]\n",
    "                \n",
    "        if move_dir == \"U\":\n",
    "            for i in range(1, move_lim):\n",
    "                coords.append((pcoord[0], pcoord[1]+i))\n",
    "        elif move_dir == \"D\":\n",
    "            for i in range(-1, -move_lim, -1):\n",
    "                coords.append((pcoord[0], pcoord[1]+i))\n",
    "        elif move_dir == \"R\":\n",
    "            for i in range(1, move_lim):\n",
    "                coords.append((pcoord[0]+i, pcoord[1]))\n",
    "        elif move_dir == \"L\":\n",
    "            for i in range(-1, -move_lim, -1):\n",
    "                coords.append((pcoord[0]+i, pcoord[1]))\n",
    "        \n",
    "    return coords"
   ]
  },
  {
   "cell_type": "code",
   "execution_count": 3,
   "metadata": {},
   "outputs": [
    {
     "name": "stdout",
     "output_type": "stream",
     "text": [
      "/Users/mwtmurphy/projects/advent-of-code\n"
     ]
    },
    {
     "name": "stderr",
     "output_type": "stream",
     "text": [
      "/Users/mwtmurphy/Library/Caches/pypoetry/virtualenvs/advent-of-code-rjxGAg1e-py3.10/lib/python3.10/site-packages/IPython/core/magics/osm.py:417: UserWarning: using dhist requires you to install the `pickleshare` library.\n",
      "  self.shell.db['dhist'] = compress_dhist(dhist)[-100:]\n"
     ]
    }
   ],
   "source": [
    "%cd ../.."
   ]
  },
  {
   "cell_type": "code",
   "execution_count": 4,
   "metadata": {},
   "outputs": [
    {
     "name": "stdout",
     "output_type": "stream",
     "text": [
      "** Day 3 **\n",
      "Minimum Manhattan distance for problem 3.1 = 1017\n",
      "Minimum total steps for problem 3.2 = 11432\n",
      "\n"
     ]
    }
   ],
   "source": [
    "with open(\"data/2019/day_3.txt\", \"r\") as infile:\n",
    "        wires = [wire.split(\",\") for wire in infile.readlines()]\n",
    "        \n",
    "w1_coords = get_wire_coords(wires[0])\n",
    "w2_coords = get_wire_coords(wires[1])\n",
    "cross_coords = list(set(w1_coords) & set(w2_coords))\n",
    "\n",
    "man_dist = [abs(x) + abs(y) for x, y in cross_coords]\n",
    "ttl_steps = [w1_coords.index(coord) + w2_coords.index(coord) for coord in cross_coords]\n",
    "\n",
    "ans_1 = sorted(man_dist)[1]\n",
    "ans_2 = sorted(ttl_steps)[1]\n",
    "\n",
    "print(\"** Day 3 **\")\n",
    "print(f\"Minimum Manhattan distance for problem 3.1 = {ans_1}\")\n",
    "print(f\"Minimum total steps for problem 3.2 = {ans_2}\", end=\"\\n\\n\")"
   ]
  },
  {
   "cell_type": "code",
   "execution_count": null,
   "metadata": {},
   "outputs": [],
   "source": []
  }
 ],
 "metadata": {
  "kernelspec": {
   "display_name": "advent-of-code-rjxGAg1e-py3.10",
   "language": "python",
   "name": "python3"
  },
  "language_info": {
   "codemirror_mode": {
    "name": "ipython",
    "version": 3
   },
   "file_extension": ".py",
   "mimetype": "text/x-python",
   "name": "python",
   "nbconvert_exporter": "python",
   "pygments_lexer": "ipython3",
   "version": "3.10.12"
  }
 },
 "nbformat": 4,
 "nbformat_minor": 2
}
