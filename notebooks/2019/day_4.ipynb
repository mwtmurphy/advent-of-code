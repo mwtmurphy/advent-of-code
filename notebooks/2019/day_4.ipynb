{
 "cells": [
  {
   "cell_type": "code",
   "execution_count": 1,
   "metadata": {},
   "outputs": [],
   "source": [
    "import collections\n",
    "import typing"
   ]
  },
  {
   "cell_type": "code",
   "execution_count": 2,
   "metadata": {},
   "outputs": [],
   "source": [
    "# helper functions\n",
    "def get_complex_pwords(lbound: int, hbound: int) -> typing.List[int]:\n",
    "    '''Returns list of complex passwords'''\n",
    "    simple_pwords = get_simple_pwords(lbound, hbound)\n",
    "    complex_pwords = []\n",
    "    \n",
    "    for pword in simple_pwords:\n",
    "        val_count = collections.Counter([int(num) for num in str(pword)])\n",
    "\n",
    "        if len(val_count.keys()) > 1:\n",
    "            val_1, val_2 = val_count.most_common(2)\n",
    "            if val_1[1] > 2 and val_2[1] == 2:\n",
    "                complex_pwords.append(pword)\n",
    "            elif val_1[1] <= 2:\n",
    "                complex_pwords.append(pword)\n",
    "                \n",
    "    return complex_pwords\n",
    "\n",
    "def get_simple_pwords(lbound: int, hbound: int) -> typing.List[int]:\n",
    "    '''Returns list of simple passwords'''\n",
    "    pwords = []\n",
    "\n",
    "    for pword in range(lbound, hbound+1):\n",
    "        split_pword = [int(num) for num in str(pword)]\n",
    "\n",
    "        n_gram = [(split_pword[ix], split_pword[ix+1]) for ix in range(5)]\n",
    "        adj_digit = False\n",
    "        digit_inc = True\n",
    "\n",
    "        for val_1, val_2 in n_gram:\n",
    "            if val_2 < val_1:\n",
    "                digit_inc = False\n",
    "\n",
    "            if val_1 == val_2:\n",
    "                adj_digit = True\n",
    "\n",
    "        if adj_digit and digit_inc:\n",
    "            pwords.append(pword)\n",
    "\n",
    "    return pwords"
   ]
  },
  {
   "cell_type": "code",
   "execution_count": 3,
   "metadata": {},
   "outputs": [
    {
     "name": "stdout",
     "output_type": "stream",
     "text": [
      "/Users/mwtmurphy/projects/advent-of-code\n"
     ]
    },
    {
     "name": "stderr",
     "output_type": "stream",
     "text": [
      "/Users/mwtmurphy/Library/Caches/pypoetry/virtualenvs/advent-of-code-rjxGAg1e-py3.10/lib/python3.10/site-packages/IPython/core/magics/osm.py:417: UserWarning: using dhist requires you to install the `pickleshare` library.\n",
      "  self.shell.db['dhist'] = compress_dhist(dhist)[-100:]\n"
     ]
    }
   ],
   "source": [
    "%cd ../.."
   ]
  },
  {
   "cell_type": "code",
   "execution_count": 4,
   "metadata": {},
   "outputs": [
    {
     "name": "stdout",
     "output_type": "stream",
     "text": [
      "** Day 4 **\n",
      "Number of simple passwords for problem 4.1 = 979\n",
      "Number of complex passwords for problem 4.2 = 635\n",
      "\n"
     ]
    }
   ],
   "source": [
    "simple_pwords = get_simple_pwords(256310, 732736)\n",
    "complex_pwords =get_complex_pwords(256310, 732736)\n",
    "\n",
    "ans_1 = len(simple_pwords)\n",
    "ans_2 = len(complex_pwords)\n",
    "\n",
    "print(\"** Day 4 **\")\n",
    "print(f\"Number of simple passwords for problem 4.1 = {ans_1}\")\n",
    "print(f\"Number of complex passwords for problem 4.2 = {ans_2}\", end=\"\\n\\n\")"
   ]
  }
 ],
 "metadata": {
  "kernelspec": {
   "display_name": "advent-of-code-rjxGAg1e-py3.10",
   "language": "python",
   "name": "python3"
  },
  "language_info": {
   "codemirror_mode": {
    "name": "ipython",
    "version": 3
   },
   "file_extension": ".py",
   "mimetype": "text/x-python",
   "name": "python",
   "nbconvert_exporter": "python",
   "pygments_lexer": "ipython3",
   "version": "3.10.12"
  }
 },
 "nbformat": 4,
 "nbformat_minor": 2
}
