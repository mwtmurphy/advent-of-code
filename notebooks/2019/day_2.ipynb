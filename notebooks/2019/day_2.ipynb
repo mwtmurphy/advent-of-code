{
 "cells": [
  {
   "cell_type": "code",
   "execution_count": 1,
   "metadata": {},
   "outputs": [],
   "source": [
    "import itertools\n",
    "import typing\n",
    "\n",
    "import numpy as np"
   ]
  },
  {
   "cell_type": "code",
   "execution_count": 2,
   "metadata": {},
   "outputs": [],
   "source": [
    "# helper functions\n",
    "def get_program_code(ic: np.ndarray, state: int) -> typing.Generator:\n",
    "    '''Returns program code(s) for a given intcode (ic) and desired\n",
    "    end state. Returned generator will be empty if no codes are found.'''    \n",
    "    for i, j in itertools.product(range(100), range(100)):\n",
    "        if state == get_program_state(ic.copy(), i, j):\n",
    "            code = 100*i + j\n",
    "            yield code\n",
    "\n",
    "def get_program_state(ic: np.ndarray, noun: int, verb: int) -> int:\n",
    "    '''Returns program state for a given intcode (ic), noun and verb.\n",
    "    Noun and verb must be within [0, 99].'''\n",
    "    ic[1] = noun\n",
    "    ic[2] = verb\n",
    "    \n",
    "    for ix in range(0, len(ic), 4):\n",
    "        if ic[ix] == 1:\n",
    "            ic[ic[ix+3]] = ic[ic[ix+1]] + ic[ic[ix+2]] \n",
    "        if ic[ix] == 2:\n",
    "            ic[ic[ix+3]] = ic[ic[ix+1]] * ic[ic[ix+2]]\n",
    "        if ic[ix] == 99:\n",
    "            break\n",
    " \n",
    "    return ic[0]"
   ]
  },
  {
   "cell_type": "code",
   "execution_count": 3,
   "metadata": {},
   "outputs": [
    {
     "name": "stdout",
     "output_type": "stream",
     "text": [
      "/Users/mwtmurphy/projects/advent-of-code\n"
     ]
    },
    {
     "name": "stderr",
     "output_type": "stream",
     "text": [
      "/Users/mwtmurphy/Library/Caches/pypoetry/virtualenvs/advent-of-code-rjxGAg1e-py3.10/lib/python3.10/site-packages/IPython/core/magics/osm.py:417: UserWarning: using dhist requires you to install the `pickleshare` library.\n",
      "  self.shell.db['dhist'] = compress_dhist(dhist)[-100:]\n"
     ]
    }
   ],
   "source": [
    "%cd ../.."
   ]
  },
  {
   "cell_type": "code",
   "execution_count": 4,
   "metadata": {},
   "outputs": [
    {
     "name": "stdout",
     "output_type": "stream",
     "text": [
      "** Day 2 **\n",
      "Program state for problem 2.1 = 3850704\n",
      "Program code for problem 2.2 = 6718\n",
      "\n"
     ]
    }
   ],
   "source": [
    "with open(\"data/2019/day_2.txt\", \"r\") as infile:\n",
    "    intcode = np.array(infile.read().split(\",\"), dtype=int)\n",
    "        \n",
    "ans_1 = get_program_state(intcode.copy(), 12, 2)\n",
    "ans_2 = list(get_program_code(intcode.copy(), 19690720))[0]\n",
    "\n",
    "print(\"** Day 2 **\")\n",
    "print(f\"Program state for problem 2.1 = {ans_1}\")\n",
    "print(f\"Program code for problem 2.2 = {ans_2}\", end=\"\\n\\n\")"
   ]
  },
  {
   "cell_type": "code",
   "execution_count": null,
   "metadata": {},
   "outputs": [],
   "source": []
  }
 ],
 "metadata": {
  "kernelspec": {
   "display_name": "advent-of-code-rjxGAg1e-py3.10",
   "language": "python",
   "name": "python3"
  },
  "language_info": {
   "codemirror_mode": {
    "name": "ipython",
    "version": 3
   },
   "file_extension": ".py",
   "mimetype": "text/x-python",
   "name": "python",
   "nbconvert_exporter": "python",
   "pygments_lexer": "ipython3",
   "version": "3.10.12"
  }
 },
 "nbformat": 4,
 "nbformat_minor": 2
}
