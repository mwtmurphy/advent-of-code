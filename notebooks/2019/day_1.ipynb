{
 "cells": [
  {
   "cell_type": "code",
   "execution_count": 1,
   "metadata": {},
   "outputs": [],
   "source": [
    "import numpy as np"
   ]
  },
  {
   "cell_type": "code",
   "execution_count": 2,
   "metadata": {},
   "outputs": [],
   "source": [
    "# helper functions\n",
    "def get_complex_fuel(mass: int) -> int:\n",
    "    '''Returns fuel required for module mass and mass of additional \n",
    "    fuel'''\n",
    "    if mass < 9:\n",
    "        fuel = 0\n",
    "    else:\n",
    "        fuel = get_simple_fuel(mass)\n",
    "        fuel += get_complex_fuel(fuel)\n",
    "\n",
    "    return fuel\n",
    "\n",
    "def get_simple_fuel(mass: int) -> int:\n",
    "    '''Returns initial fuel required for module mass'''\n",
    "    fuel = max(0, mass // 3 - 2)\n",
    "\n",
    "    return fuel"
   ]
  },
  {
   "cell_type": "code",
   "execution_count": 3,
   "metadata": {},
   "outputs": [
    {
     "name": "stdout",
     "output_type": "stream",
     "text": [
      "/Users/mwtmurphy/projects/advent-of-code\n"
     ]
    },
    {
     "name": "stderr",
     "output_type": "stream",
     "text": [
      "/Users/mwtmurphy/Library/Caches/pypoetry/virtualenvs/advent-of-code-rjxGAg1e-py3.10/lib/python3.10/site-packages/IPython/core/magics/osm.py:417: UserWarning: using dhist requires you to install the `pickleshare` library.\n",
      "  self.shell.db['dhist'] = compress_dhist(dhist)[-100:]\n"
     ]
    }
   ],
   "source": [
    "%cd ../.."
   ]
  },
  {
   "cell_type": "code",
   "execution_count": 4,
   "metadata": {},
   "outputs": [
    {
     "name": "stdout",
     "output_type": "stream",
     "text": [
      "** Day 1 **\n",
      "Fuel counter-upper for problem 1.1 = 3474920\n",
      "Fuel counter-upper for problem 1.2 = 5209504\n",
      "\n"
     ]
    }
   ],
   "source": [
    "with open(\"data/2019/day_1.txt\", \"r\") as infile:\n",
    "    masses = np.array(infile.readlines(), dtype=int)\n",
    "    \n",
    "ans_1 = sum([get_simple_fuel(mass) for mass in masses])\n",
    "ans_2 = sum([get_complex_fuel(mass) for mass in masses])\n",
    "\n",
    "print(\"** Day 1 **\")\n",
    "print(f\"Fuel counter-upper for problem 1.1 = {ans_1}\")\n",
    "print(f\"Fuel counter-upper for problem 1.2 = {ans_2}\", end=\"\\n\\n\")"
   ]
  },
  {
   "cell_type": "code",
   "execution_count": null,
   "metadata": {},
   "outputs": [],
   "source": []
  }
 ],
 "metadata": {
  "kernelspec": {
   "display_name": "advent-of-code-rjxGAg1e-py3.10",
   "language": "python",
   "name": "python3"
  },
  "language_info": {
   "codemirror_mode": {
    "name": "ipython",
    "version": 3
   },
   "file_extension": ".py",
   "mimetype": "text/x-python",
   "name": "python",
   "nbconvert_exporter": "python",
   "pygments_lexer": "ipython3",
   "version": "3.10.12"
  }
 },
 "nbformat": 4,
 "nbformat_minor": 2
}
