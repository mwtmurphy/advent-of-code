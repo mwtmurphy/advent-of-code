{
 "cells": [
  {
   "cell_type": "code",
   "execution_count": 4,
   "metadata": {},
   "outputs": [],
   "source": [
    "import itertools\n",
    "\n",
    "import networkx as nx\n",
    "import numpy as np"
   ]
  },
  {
   "cell_type": "code",
   "execution_count": 2,
   "metadata": {},
   "outputs": [],
   "source": [
    "# helper functions\n",
    "def get_diagnostic_codes(ic: np.ndarray, sys_id: int = None, off: int = 0) -> list:\n",
    "    '''Returns diagnostic codes for system ID'''\n",
    "    ix = 0\n",
    "    diag_codes = []\n",
    "\n",
    "    while ix < len(ic):       \n",
    "        pars = f\"{ic[ix]:05}\"\n",
    "        opcode = int(pars[3:])\n",
    "        \n",
    "        if opcode == 99:\n",
    "            break\n",
    "        \n",
    "        ic = ic + (ix - len(ic) + 2)*[0] if ix+1 >= len(ic) else ic\n",
    "        \n",
    "        par_1 = int(pars[2])\n",
    "        \n",
    "        if par_1 == 0:\n",
    "            par_1_ix = ic[ix+1]\n",
    "        elif par_1 == 1:\n",
    "            par_1_ix = ix + 1\n",
    "        else:\n",
    "            par_1_ix = off + ic[ix+1]\n",
    "            \n",
    "        ic = ic + (par_1_ix - len(ic) + 1)*[0] if par_1_ix >= len(ic) else ic        \n",
    "            \n",
    "        if opcode == 3:\n",
    "            ic[par_1_ix] = sys_id\n",
    "            ix += 2\n",
    "        elif opcode == 4:\n",
    "            diag_codes.append(ic[par_1_ix])\n",
    "            ix += 2\n",
    "        elif opcode == 9:\n",
    "            off += ic[par_1_ix]\n",
    "            ix += 2\n",
    "            \n",
    "        else:\n",
    "            par_2 = int(pars[1])\n",
    "            \n",
    "            if par_2 == 0:\n",
    "                par_2_ix = ic[ix+2]\n",
    "            elif par_2 == 1:\n",
    "                par_2_ix = ix + 2\n",
    "            else:\n",
    "                par_2_ix = off + ic[ix+2]\n",
    "            \n",
    "            ic = ic + (par_2_ix - len(ic) + 1)*[0] if par_2_ix >= len(ic) else ic        \n",
    "\n",
    "            if opcode == 5:\n",
    "                ix = ic[par_2_ix] if ic[par_1_ix] != 0 else ix + 3\n",
    "            elif opcode == 6:\n",
    "                ix = ic[par_2_ix] if ic[par_1_ix] == 0 else ix + 3\n",
    "            \n",
    "            else:\n",
    "                par_3 = int(pars[0])\n",
    "                \n",
    "                if par_3 == 0:\n",
    "                    par_3_ix = ic[ix+3]\n",
    "                elif par_3 == 1:\n",
    "                    par_3_ix = ix + 3\n",
    "                else:\n",
    "                    par_3_ix = off + ic[ix+3]\n",
    "                \n",
    "                ic = ic + (par_3_ix - len(ic) + 1)*[0] if par_3_ix >= len(ic) else ic\n",
    "                \n",
    "                if opcode == 1: \n",
    "                    ic[par_3_ix] = ic[par_1_ix] + ic[par_2_ix]\n",
    "                if opcode == 2:\n",
    "                    ic[par_3_ix] = ic[par_1_ix] * ic[par_2_ix]\n",
    "                if opcode == 7:\n",
    "                    ic[par_3_ix] = 1 if ic[par_1_ix] < ic[par_2_ix] else 0\n",
    "                if opcode == 8:\n",
    "                    ic[par_3_ix] = 1 if ic[par_1_ix] == ic[par_2_ix] else 0\n",
    "                \n",
    "                ix += 4\n",
    "        \n",
    "    return diag_codes"
   ]
  },
  {
   "cell_type": "code",
   "execution_count": 3,
   "metadata": {},
   "outputs": [
    {
     "name": "stdout",
     "output_type": "stream",
     "text": [
      "/Users/mwtmurphy/projects/advent-of-code\n"
     ]
    },
    {
     "name": "stderr",
     "output_type": "stream",
     "text": [
      "/Users/mwtmurphy/Library/Caches/pypoetry/virtualenvs/advent-of-code-rjxGAg1e-py3.10/lib/python3.10/site-packages/IPython/core/magics/osm.py:417: UserWarning: using dhist requires you to install the `pickleshare` library.\n",
      "  self.shell.db['dhist'] = compress_dhist(dhist)[-100:]\n"
     ]
    }
   ],
   "source": [
    "%cd ../.."
   ]
  },
  {
   "cell_type": "code",
   "execution_count": 5,
   "metadata": {},
   "outputs": [
    {
     "name": "stdout",
     "output_type": "stream",
     "text": [
      "** Day 6 **\n",
      "Total direct and indirect orbits for problem 6.1 = 301100\n",
      "Shortest path to Santa for problem 6.2 = 547\n",
      "\n"
     ]
    }
   ],
   "source": [
    "with open(\"data/2019/day_6.txt\", \"r\") as infile:\n",
    "    edges = [orbit.strip().split(\")\") for orbit in infile.readlines()]\n",
    "    \n",
    "nodes = set(itertools.chain(*edges))\n",
    "    \n",
    "graph = nx.DiGraph()\n",
    "graph.add_nodes_from(nodes)\n",
    "graph.add_edges_from(edges)\n",
    "\n",
    "ans_1 = sum([len(nx.ancestors(graph, node)) for node in nodes])\n",
    "\n",
    "ugraph = graph.to_undirected()\n",
    "ans_2 = len(nx.shortest_path(ugraph, source=\"YOU\", target=\"SAN\"))-3\n",
    "\n",
    "print(\"** Day 6 **\")\n",
    "print(f\"Total direct and indirect orbits for problem 6.1 = {ans_1}\")\n",
    "print(f\"Shortest path to Santa for problem 6.2 = {ans_2}\", end=\"\\n\\n\")"
   ]
  },
  {
   "cell_type": "code",
   "execution_count": null,
   "metadata": {},
   "outputs": [],
   "source": []
  }
 ],
 "metadata": {
  "kernelspec": {
   "display_name": "advent-of-code-rjxGAg1e-py3.10",
   "language": "python",
   "name": "python3"
  },
  "language_info": {
   "codemirror_mode": {
    "name": "ipython",
    "version": 3
   },
   "file_extension": ".py",
   "mimetype": "text/x-python",
   "name": "python",
   "nbconvert_exporter": "python",
   "pygments_lexer": "ipython3",
   "version": "3.10.12"
  }
 },
 "nbformat": 4,
 "nbformat_minor": 2
}
